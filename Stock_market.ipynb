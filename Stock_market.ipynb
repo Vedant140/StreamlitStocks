{
 "cells": [
  {
   "cell_type": "code",
   "execution_count": 1,
   "metadata": {},
   "outputs": [],
   "source": [
    "import numpy as np\n",
    "import pandas as pd\n",
    "import matplotlib.pyplot as plt\n",
    "import pandas_datareader as data\n",
    "import plotly.graph_objs as go\n",
    "import yfinance as yf\n",
    "start='1980-01-01'\n",
    "end='2022-11-21'"
   ]
  },
  {
   "cell_type": "code",
   "execution_count": 2,
   "metadata": {},
   "outputs": [
    {
     "data": {
      "text/html": [
       "<div>\n",
       "<style scoped>\n",
       "    .dataframe tbody tr th:only-of-type {\n",
       "        vertical-align: middle;\n",
       "    }\n",
       "\n",
       "    .dataframe tbody tr th {\n",
       "        vertical-align: top;\n",
       "    }\n",
       "\n",
       "    .dataframe thead th {\n",
       "        text-align: right;\n",
       "    }\n",
       "</style>\n",
       "<table border=\"1\" class=\"dataframe\">\n",
       "  <thead>\n",
       "    <tr style=\"text-align: right;\">\n",
       "      <th></th>\n",
       "      <th>High</th>\n",
       "      <th>Low</th>\n",
       "      <th>Open</th>\n",
       "      <th>Close</th>\n",
       "      <th>Volume</th>\n",
       "      <th>Adj Close</th>\n",
       "    </tr>\n",
       "    <tr>\n",
       "      <th>Date</th>\n",
       "      <th></th>\n",
       "      <th></th>\n",
       "      <th></th>\n",
       "      <th></th>\n",
       "      <th></th>\n",
       "      <th></th>\n",
       "    </tr>\n",
       "  </thead>\n",
       "  <tbody>\n",
       "    <tr>\n",
       "      <th>2010-06-29</th>\n",
       "      <td>1.666667</td>\n",
       "      <td>1.169333</td>\n",
       "      <td>1.266667</td>\n",
       "      <td>1.592667</td>\n",
       "      <td>281494500.0</td>\n",
       "      <td>1.592667</td>\n",
       "    </tr>\n",
       "    <tr>\n",
       "      <th>2010-06-30</th>\n",
       "      <td>2.028000</td>\n",
       "      <td>1.553333</td>\n",
       "      <td>1.719333</td>\n",
       "      <td>1.588667</td>\n",
       "      <td>257806500.0</td>\n",
       "      <td>1.588667</td>\n",
       "    </tr>\n",
       "    <tr>\n",
       "      <th>2010-07-01</th>\n",
       "      <td>1.728000</td>\n",
       "      <td>1.351333</td>\n",
       "      <td>1.666667</td>\n",
       "      <td>1.464000</td>\n",
       "      <td>123282000.0</td>\n",
       "      <td>1.464000</td>\n",
       "    </tr>\n",
       "    <tr>\n",
       "      <th>2010-07-02</th>\n",
       "      <td>1.540000</td>\n",
       "      <td>1.247333</td>\n",
       "      <td>1.533333</td>\n",
       "      <td>1.280000</td>\n",
       "      <td>77097000.0</td>\n",
       "      <td>1.280000</td>\n",
       "    </tr>\n",
       "    <tr>\n",
       "      <th>2010-07-06</th>\n",
       "      <td>1.333333</td>\n",
       "      <td>1.055333</td>\n",
       "      <td>1.333333</td>\n",
       "      <td>1.074000</td>\n",
       "      <td>103003500.0</td>\n",
       "      <td>1.074000</td>\n",
       "    </tr>\n",
       "    <tr>\n",
       "      <th>...</th>\n",
       "      <td>...</td>\n",
       "      <td>...</td>\n",
       "      <td>...</td>\n",
       "      <td>...</td>\n",
       "      <td>...</td>\n",
       "      <td>...</td>\n",
       "    </tr>\n",
       "    <tr>\n",
       "      <th>2022-11-15</th>\n",
       "      <td>200.820007</td>\n",
       "      <td>192.059998</td>\n",
       "      <td>195.880005</td>\n",
       "      <td>194.419998</td>\n",
       "      <td>91293800.0</td>\n",
       "      <td>194.419998</td>\n",
       "    </tr>\n",
       "    <tr>\n",
       "      <th>2022-11-16</th>\n",
       "      <td>192.570007</td>\n",
       "      <td>185.660004</td>\n",
       "      <td>191.509995</td>\n",
       "      <td>186.919998</td>\n",
       "      <td>66567600.0</td>\n",
       "      <td>186.919998</td>\n",
       "    </tr>\n",
       "    <tr>\n",
       "      <th>2022-11-17</th>\n",
       "      <td>186.160004</td>\n",
       "      <td>180.899994</td>\n",
       "      <td>183.960007</td>\n",
       "      <td>183.169998</td>\n",
       "      <td>64336000.0</td>\n",
       "      <td>183.169998</td>\n",
       "    </tr>\n",
       "    <tr>\n",
       "      <th>2022-11-18</th>\n",
       "      <td>185.190002</td>\n",
       "      <td>176.550003</td>\n",
       "      <td>185.050003</td>\n",
       "      <td>180.190002</td>\n",
       "      <td>75904900.0</td>\n",
       "      <td>180.190002</td>\n",
       "    </tr>\n",
       "    <tr>\n",
       "      <th>2022-11-21</th>\n",
       "      <td>176.770004</td>\n",
       "      <td>173.229996</td>\n",
       "      <td>175.850006</td>\n",
       "      <td>173.790802</td>\n",
       "      <td>19345237.0</td>\n",
       "      <td>173.790802</td>\n",
       "    </tr>\n",
       "  </tbody>\n",
       "</table>\n",
       "<p>3123 rows × 6 columns</p>\n",
       "</div>"
      ],
      "text/plain": [
       "                  High         Low        Open       Close       Volume  \\\n",
       "Date                                                                      \n",
       "2010-06-29    1.666667    1.169333    1.266667    1.592667  281494500.0   \n",
       "2010-06-30    2.028000    1.553333    1.719333    1.588667  257806500.0   \n",
       "2010-07-01    1.728000    1.351333    1.666667    1.464000  123282000.0   \n",
       "2010-07-02    1.540000    1.247333    1.533333    1.280000   77097000.0   \n",
       "2010-07-06    1.333333    1.055333    1.333333    1.074000  103003500.0   \n",
       "...                ...         ...         ...         ...          ...   \n",
       "2022-11-15  200.820007  192.059998  195.880005  194.419998   91293800.0   \n",
       "2022-11-16  192.570007  185.660004  191.509995  186.919998   66567600.0   \n",
       "2022-11-17  186.160004  180.899994  183.960007  183.169998   64336000.0   \n",
       "2022-11-18  185.190002  176.550003  185.050003  180.190002   75904900.0   \n",
       "2022-11-21  176.770004  173.229996  175.850006  173.790802   19345237.0   \n",
       "\n",
       "             Adj Close  \n",
       "Date                    \n",
       "2010-06-29    1.592667  \n",
       "2010-06-30    1.588667  \n",
       "2010-07-01    1.464000  \n",
       "2010-07-02    1.280000  \n",
       "2010-07-06    1.074000  \n",
       "...                ...  \n",
       "2022-11-15  194.419998  \n",
       "2022-11-16  186.919998  \n",
       "2022-11-17  183.169998  \n",
       "2022-11-18  180.190002  \n",
       "2022-11-21  173.790802  \n",
       "\n",
       "[3123 rows x 6 columns]"
      ]
     },
     "execution_count": 2,
     "metadata": {},
     "output_type": "execute_result"
    }
   ],
   "source": [
    "df=data.DataReader('TSLA','yahoo',start,end)\n",
    "df"
   ]
  },
  {
   "cell_type": "code",
   "execution_count": 3,
   "metadata": {},
   "outputs": [],
   "source": [
    "df=df.reset_index()\n",
    "df=df.drop(['Date','Adj Close'],axis=1)"
   ]
  },
  {
   "cell_type": "code",
   "execution_count": 4,
   "metadata": {},
   "outputs": [
    {
     "data": {
      "text/plain": [
       "0              NaN\n",
       "1              NaN\n",
       "2              NaN\n",
       "3              NaN\n",
       "4              NaN\n",
       "           ...    \n",
       "3118    271.384784\n",
       "3119    270.767300\n",
       "3120    270.173717\n",
       "3121    269.589434\n",
       "3122    268.919521\n",
       "Name: Close, Length: 3123, dtype: float64"
      ]
     },
     "execution_count": 4,
     "metadata": {},
     "output_type": "execute_result"
    }
   ],
   "source": [
    "ma200 =df.Close.rolling(200).mean()\n",
    "ma200"
   ]
  },
  {
   "cell_type": "code",
   "execution_count": 5,
   "metadata": {},
   "outputs": [
    {
     "data": {
      "text/plain": [
       "[<matplotlib.lines.Line2D at 0x7f9fcd41a460>]"
      ]
     },
     "execution_count": 5,
     "metadata": {},
     "output_type": "execute_result"
    },
    {
     "data": {
      "image/png": "[encoded data removed]",
      "text/plain": [
       "<Figure size 1200x600 with 1 Axes>"
      ]
     },
     "metadata": {},
     "output_type": "display_data"
    }
   ],
   "source": [
    "plt.figure(figsize=(12,6))\n",
    "plt.plot(df.Close)\n",
    "plt.plot(ma200)"
   ]
  },
  {
   "cell_type": "code",
   "execution_count": 6,
   "metadata": {},
   "outputs": [
    {
     "name": "stdout",
     "output_type": "stream",
     "text": [
      "(3123, 1)\n"
     ]
    }
   ],
   "source": [
    "train=pd.DataFrame(df['Close'])\n",
    "print(train.shape)"
   ]
  },
  {
   "cell_type": "code",
   "execution_count": 7,
   "metadata": {},
   "outputs": [
    {
     "name": "stdout",
     "output_type": "stream",
     "text": [
      "[*********************100%***********************]  1 of 1 completed\n"
     ]
    },
    {
     "data": {
      "text/html": [
       "<div>\n",
       "<style scoped>\n",
       "    .dataframe tbody tr th:only-of-type {\n",
       "        vertical-align: middle;\n",
       "    }\n",
       "\n",
       "    .dataframe tbody tr th {\n",
       "        vertical-align: top;\n",
       "    }\n",
       "\n",
       "    .dataframe thead th {\n",
       "        text-align: right;\n",
       "    }\n",
       "</style>\n",
       "<table border=\"1\" class=\"dataframe\">\n",
       "  <thead>\n",
       "    <tr style=\"text-align: right;\">\n",
       "      <th></th>\n",
       "      <th>Open</th>\n",
       "      <th>High</th>\n",
       "      <th>Low</th>\n",
       "      <th>Close</th>\n",
       "      <th>Adj Close</th>\n",
       "      <th>Volume</th>\n",
       "    </tr>\n",
       "    <tr>\n",
       "      <th>Datetime</th>\n",
       "      <th></th>\n",
       "      <th></th>\n",
       "      <th></th>\n",
       "      <th></th>\n",
       "      <th></th>\n",
       "      <th></th>\n",
       "    </tr>\n",
       "  </thead>\n",
       "  <tbody>\n",
       "    <tr>\n",
       "      <th>2022-11-15 09:30:00</th>\n",
       "      <td>195.880005</td>\n",
       "      <td>197.750000</td>\n",
       "      <td>194.410004</td>\n",
       "      <td>195.619995</td>\n",
       "      <td>195.619995</td>\n",
       "      <td>7431285</td>\n",
       "    </tr>\n",
       "    <tr>\n",
       "      <th>2022-11-15 09:35:00</th>\n",
       "      <td>195.690002</td>\n",
       "      <td>197.559998</td>\n",
       "      <td>195.110001</td>\n",
       "      <td>195.190002</td>\n",
       "      <td>195.190002</td>\n",
       "      <td>2290497</td>\n",
       "    </tr>\n",
       "    <tr>\n",
       "      <th>2022-11-15 09:40:00</th>\n",
       "      <td>195.190002</td>\n",
       "      <td>198.949997</td>\n",
       "      <td>195.140106</td>\n",
       "      <td>197.258194</td>\n",
       "      <td>197.258194</td>\n",
       "      <td>3103661</td>\n",
       "    </tr>\n",
       "    <tr>\n",
       "      <th>2022-11-15 09:45:00</th>\n",
       "      <td>197.190002</td>\n",
       "      <td>198.000000</td>\n",
       "      <td>195.500000</td>\n",
       "      <td>196.710007</td>\n",
       "      <td>196.710007</td>\n",
       "      <td>2121957</td>\n",
       "    </tr>\n",
       "    <tr>\n",
       "      <th>2022-11-15 09:50:00</th>\n",
       "      <td>196.710007</td>\n",
       "      <td>197.990005</td>\n",
       "      <td>196.623795</td>\n",
       "      <td>197.108597</td>\n",
       "      <td>197.108597</td>\n",
       "      <td>1736400</td>\n",
       "    </tr>\n",
       "    <tr>\n",
       "      <th>...</th>\n",
       "      <td>...</td>\n",
       "      <td>...</td>\n",
       "      <td>...</td>\n",
       "      <td>...</td>\n",
       "      <td>...</td>\n",
       "      <td>...</td>\n",
       "    </tr>\n",
       "    <tr>\n",
       "      <th>2022-11-21 10:00:00</th>\n",
       "      <td>174.125000</td>\n",
       "      <td>174.169998</td>\n",
       "      <td>173.399994</td>\n",
       "      <td>173.865005</td>\n",
       "      <td>173.865005</td>\n",
       "      <td>1302665</td>\n",
       "    </tr>\n",
       "    <tr>\n",
       "      <th>2022-11-21 10:05:00</th>\n",
       "      <td>173.884995</td>\n",
       "      <td>174.149994</td>\n",
       "      <td>173.399994</td>\n",
       "      <td>174.149994</td>\n",
       "      <td>174.149994</td>\n",
       "      <td>1257517</td>\n",
       "    </tr>\n",
       "    <tr>\n",
       "      <th>2022-11-21 10:10:00</th>\n",
       "      <td>174.139999</td>\n",
       "      <td>174.289993</td>\n",
       "      <td>173.570007</td>\n",
       "      <td>173.692398</td>\n",
       "      <td>173.692398</td>\n",
       "      <td>1026606</td>\n",
       "    </tr>\n",
       "    <tr>\n",
       "      <th>2022-11-21 10:15:00</th>\n",
       "      <td>173.675003</td>\n",
       "      <td>174.279999</td>\n",
       "      <td>173.456299</td>\n",
       "      <td>173.899994</td>\n",
       "      <td>173.899994</td>\n",
       "      <td>703565</td>\n",
       "    </tr>\n",
       "    <tr>\n",
       "      <th>2022-11-21 10:18:23</th>\n",
       "      <td>173.959900</td>\n",
       "      <td>173.959900</td>\n",
       "      <td>173.959900</td>\n",
       "      <td>173.959900</td>\n",
       "      <td>173.959900</td>\n",
       "      <td>0</td>\n",
       "    </tr>\n",
       "  </tbody>\n",
       "</table>\n",
       "<p>323 rows × 6 columns</p>\n",
       "</div>"
      ],
      "text/plain": [
       "                           Open        High         Low       Close  \\\n",
       "Datetime                                                              \n",
       "2022-11-15 09:30:00  195.880005  197.750000  194.410004  195.619995   \n",
       "2022-11-15 09:35:00  195.690002  197.559998  195.110001  195.190002   \n",
       "2022-11-15 09:40:00  195.190002  198.949997  195.140106  197.258194   \n",
       "2022-11-15 09:45:00  197.190002  198.000000  195.500000  196.710007   \n",
       "2022-11-15 09:50:00  196.710007  197.990005  196.623795  197.108597   \n",
       "...                         ...         ...         ...         ...   \n",
       "2022-11-21 10:00:00  174.125000  174.169998  173.399994  173.865005   \n",
       "2022-11-21 10:05:00  173.884995  174.149994  173.399994  174.149994   \n",
       "2022-11-21 10:10:00  174.139999  174.289993  173.570007  173.692398   \n",
       "2022-11-21 10:15:00  173.675003  174.279999  173.456299  173.899994   \n",
       "2022-11-21 10:18:23  173.959900  173.959900  173.959900  173.959900   \n",
       "\n",
       "                      Adj Close   Volume  \n",
       "Datetime                                  \n",
       "2022-11-15 09:30:00  195.619995  7431285  \n",
       "2022-11-15 09:35:00  195.190002  2290497  \n",
       "2022-11-15 09:40:00  197.258194  3103661  \n",
       "2022-11-15 09:45:00  196.710007  2121957  \n",
       "2022-11-15 09:50:00  197.108597  1736400  \n",
       "...                         ...      ...  \n",
       "2022-11-21 10:00:00  173.865005  1302665  \n",
       "2022-11-21 10:05:00  174.149994  1257517  \n",
       "2022-11-21 10:10:00  173.692398  1026606  \n",
       "2022-11-21 10:15:00  173.899994   703565  \n",
       "2022-11-21 10:18:23  173.959900        0  \n",
       "\n",
       "[323 rows x 6 columns]"
      ]
     },
     "execution_count": 7,
     "metadata": {},
     "output_type": "execute_result"
    }
   ],
   "source": [
    "test = yf.download(tickers='TSLA', period='5d', interval='5m')\n",
    "test"
   ]
  },
  {
   "cell_type": "code",
   "execution_count": 8,
   "metadata": {},
   "outputs": [
    {
     "name": "stdout",
     "output_type": "stream",
     "text": [
      "(323, 1)\n"
     ]
    }
   ],
   "source": [
    "test=test.reset_index()\n",
    "test=test.drop(['Datetime','Adj Close'],axis=1)\n",
    "test=pd.DataFrame(test['Close'])\n",
    "print(test.shape)"
   ]
  },
  {
   "cell_type": "code",
   "execution_count": 9,
   "metadata": {},
   "outputs": [
    {
     "data": {
      "text/plain": [
       "(3123, 1)"
      ]
     },
     "execution_count": 9,
     "metadata": {},
     "output_type": "execute_result"
    }
   ],
   "source": [
    "from sklearn.preprocessing import MinMaxScaler\n",
    "scaler=MinMaxScaler(feature_range=(0,1))\n",
    "train1=scaler.fit_transform(train)\n",
    "train1.shape"
   ]
  },
  {
   "cell_type": "code",
   "execution_count": 10,
   "metadata": {},
   "outputs": [],
   "source": [
    "x_train=[]\n",
    "y_train=[]\n",
    "\n",
    "for i in range(100,train1.shape[0]):\n",
    "    x_train.append(train1[i-100:i])\n",
    "    y_train.append(train1[i,0])\n",
    "    \n",
    "    \n",
    "x_train,y_train=np.array(x_train),np.array(y_train)"
   ]
  },
  {
   "cell_type": "code",
   "execution_count": 11,
   "metadata": {},
   "outputs": [
    {
     "data": {
      "text/plain": [
       "(3023, 100, 1)"
      ]
     },
     "execution_count": 11,
     "metadata": {},
     "output_type": "execute_result"
    }
   ],
   "source": [
    "x_train.shape"
   ]
  },
  {
   "cell_type": "code",
   "execution_count": 12,
   "metadata": {},
   "outputs": [
    {
     "name": "stderr",
     "output_type": "stream",
     "text": [
      "2022-11-21 21:09:19.437070: I tensorflow/core/platform/cpu_feature_guard.cc:193] This TensorFlow binary is optimized with oneAPI Deep Neural Network Library (oneDNN) to use the following CPU instructions in performance-critical operations:  AVX2 AVX512F AVX512_VNNI FMA\n",
      "To enable them in other operations, rebuild TensorFlow with the appropriate compiler flags.\n",
      "2022-11-21 21:09:25.766957: I tensorflow/core/platform/cpu_feature_guard.cc:193] This TensorFlow binary is optimized with oneAPI Deep Neural Network Library (oneDNN) to use the following CPU instructions in performance-critical operations:  AVX2 AVX512F AVX512_VNNI FMA\n",
      "To enable them in other operations, rebuild TensorFlow with the appropriate compiler flags.\n"
     ]
    }
   ],
   "source": [
    "from keras.layers import Dense,Dropout,LSTM\n",
    "from keras.models import Sequential\n",
    "\n",
    "model=Sequential()\n",
    "model.add(LSTM(units=50,activation='relu',return_sequences=True,input_shape=(x_train.shape[1],1)))\n",
    "model.add(Dropout(0.2))\n",
    "\n",
    "model.add(LSTM(units=60,activation='relu',return_sequences=True))\n",
    "model.add(Dropout(0.3))\n",
    "\n",
    "model.add(LSTM(units=70,activation='relu',return_sequences=True))\n",
    "model.add(Dropout(0.4))\n",
    "\n",
    "model.add(LSTM(units=90,activation='relu'))\n",
    "model.add(Dropout(0.5))\n",
    "\n",
    "model.add(Dense(units=1))\n"
   ]
  },
  {
   "cell_type": "code",
   "execution_count": 13,
   "metadata": {},
   "outputs": [
    {
     "name": "stdout",
     "output_type": "stream",
     "text": [
      "Model: \"sequential\"\n",
      "_________________________________________________________________\n",
      " Layer (type)                Output Shape              Param #   \n",
      "=================================================================\n",
      " lstm (LSTM)                 (None, 100, 50)           10400     \n",
      "                                                                 \n",
      " dropout (Dropout)           (None, 100, 50)           0         \n",
      "                                                                 \n",
      " lstm_1 (LSTM)               (None, 100, 60)           26640     \n",
      "                                                                 \n",
      " dropout_1 (Dropout)         (None, 100, 60)           0         \n",
      "                                                                 \n",
      " lstm_2 (LSTM)               (None, 100, 70)           36680     \n",
      "                                                                 \n",
      " dropout_2 (Dropout)         (None, 100, 70)           0         \n",
      "                                                                 \n",
      " lstm_3 (LSTM)               (None, 90)                57960     \n",
      "                                                                 \n",
      " dropout_3 (Dropout)         (None, 90)                0         \n",
      "                                                                 \n",
      " dense (Dense)               (None, 1)                 91        \n",
      "                                                                 \n",
      "=================================================================\n",
      "Total params: 131,771\n",
      "Trainable params: 131,771\n",
      "Non-trainable params: 0\n",
      "_________________________________________________________________\n"
     ]
    }
   ],
   "source": [
    "model.summary()"
   ]
  },
  {
   "cell_type": "code",
   "execution_count": 14,
   "metadata": {},
   "outputs": [
    {
     "name": "stdout",
     "output_type": "stream",
     "text": [
      "Epoch 1/50\n",
      "95/95 [==============================] - 30s 264ms/step - loss: 0.0113\n",
      "Epoch 2/50\n",
      "95/95 [==============================] - 26s 273ms/step - loss: 0.0041\n",
      "Epoch 3/50\n",
      "95/95 [==============================] - 27s 284ms/step - loss: 0.0038\n",
      "Epoch 4/50\n",
      "95/95 [==============================] - 38s 399ms/step - loss: 0.0034\n",
      "Epoch 5/50\n",
      "95/95 [==============================] - 40s 416ms/step - loss: 0.0031\n",
      "Epoch 6/50\n",
      "95/95 [==============================] - 48s 503ms/step - loss: 0.0029\n",
      "Epoch 7/50\n",
      "95/95 [==============================] - 38s 393ms/step - loss: 0.0033\n",
      "Epoch 8/50\n",
      "95/95 [==============================] - 28s 300ms/step - loss: 0.0028\n",
      "Epoch 9/50\n",
      "95/95 [==============================] - 35s 375ms/step - loss: 0.0028\n",
      "Epoch 10/50\n",
      "95/95 [==============================] - 40s 423ms/step - loss: 0.0032\n",
      "Epoch 11/50\n",
      "95/95 [==============================] - 36s 383ms/step - loss: 0.0028\n",
      "Epoch 12/50\n",
      "95/95 [==============================] - 32s 341ms/step - loss: 0.0028\n",
      "Epoch 13/50\n",
      "95/95 [==============================] - 43s 453ms/step - loss: 0.0029\n",
      "Epoch 14/50\n",
      "95/95 [==============================] - 43s 450ms/step - loss: 0.0026\n",
      "Epoch 15/50\n",
      "95/95 [==============================] - 39s 413ms/step - loss: 0.0026\n",
      "Epoch 16/50\n",
      "95/95 [==============================] - 37s 386ms/step - loss: 0.0020\n",
      "Epoch 17/50\n",
      "95/95 [==============================] - 36s 383ms/step - loss: 0.0025\n",
      "Epoch 18/50\n",
      "95/95 [==============================] - 38s 400ms/step - loss: 0.0022\n",
      "Epoch 19/50\n",
      "95/95 [==============================] - 39s 406ms/step - loss: 0.0025\n",
      "Epoch 20/50\n",
      "95/95 [==============================] - 37s 387ms/step - loss: 0.0023\n",
      "Epoch 21/50\n",
      "95/95 [==============================] - 36s 377ms/step - loss: 0.0023\n",
      "Epoch 22/50\n",
      "95/95 [==============================] - 37s 389ms/step - loss: 0.0026\n",
      "Epoch 23/50\n",
      "95/95 [==============================] - 37s 394ms/step - loss: 0.0023\n",
      "Epoch 24/50\n",
      "95/95 [==============================] - 39s 411ms/step - loss: 0.0023\n",
      "Epoch 25/50\n",
      "95/95 [==============================] - 38s 397ms/step - loss: 0.0022\n",
      "Epoch 26/50\n",
      "95/95 [==============================] - 37s 385ms/step - loss: 0.0023\n",
      "Epoch 27/50\n",
      "95/95 [==============================] - 39s 405ms/step - loss: 0.0022\n",
      "Epoch 28/50\n",
      "95/95 [==============================] - 33s 342ms/step - loss: 0.0020\n",
      "Epoch 29/50\n",
      "95/95 [==============================] - 33s 351ms/step - loss: 0.0021\n",
      "Epoch 30/50\n",
      "95/95 [==============================] - 27s 281ms/step - loss: 0.0021\n",
      "Epoch 31/50\n",
      "95/95 [==============================] - 24s 257ms/step - loss: 0.0021\n",
      "Epoch 32/50\n",
      "95/95 [==============================] - 24s 249ms/step - loss: 0.0021\n",
      "Epoch 33/50\n",
      "95/95 [==============================] - 26s 272ms/step - loss: 0.0020\n",
      "Epoch 34/50\n",
      "95/95 [==============================] - 24s 249ms/step - loss: 0.0022\n",
      "Epoch 35/50\n",
      "95/95 [==============================] - 24s 255ms/step - loss: 0.0020\n",
      "Epoch 36/50\n",
      "95/95 [==============================] - 25s 263ms/step - loss: 0.0020\n",
      "Epoch 37/50\n",
      "95/95 [==============================] - 24s 252ms/step - loss: 0.0020\n",
      "Epoch 38/50\n",
      "95/95 [==============================] - 25s 266ms/step - loss: 0.0020\n",
      "Epoch 39/50\n",
      "95/95 [==============================] - 25s 264ms/step - loss: 0.0020\n",
      "Epoch 40/50\n",
      "95/95 [==============================] - 28s 295ms/step - loss: 0.0017\n",
      "Epoch 41/50\n",
      "95/95 [==============================] - 24s 249ms/step - loss: 0.0024\n",
      "Epoch 42/50\n",
      "95/95 [==============================] - 28s 297ms/step - loss: 0.0020\n",
      "Epoch 43/50\n",
      "95/95 [==============================] - 26s 274ms/step - loss: 0.0018\n",
      "Epoch 44/50\n",
      "95/95 [==============================] - 27s 280ms/step - loss: 0.0019\n",
      "Epoch 45/50\n",
      "95/95 [==============================] - 24s 250ms/step - loss: 0.0019\n",
      "Epoch 46/50\n",
      "95/95 [==============================] - 23s 245ms/step - loss: 0.0018\n",
      "Epoch 47/50\n",
      "95/95 [==============================] - 24s 252ms/step - loss: 0.0019\n",
      "Epoch 48/50\n",
      "95/95 [==============================] - 24s 249ms/step - loss: 0.0020\n",
      "Epoch 49/50\n",
      "95/95 [==============================] - 23s 247ms/step - loss: 0.0020\n",
      "Epoch 50/50\n",
      "95/95 [==============================] - 24s 249ms/step - loss: 0.0020\n"
     ]
    },
    {
     "data": {
      "text/plain": [
       "<keras.callbacks.History at 0x7f9fba68fee0>"
      ]
     },
     "execution_count": 14,
     "metadata": {},
     "output_type": "execute_result"
    }
   ],
   "source": [
    "model.compile(optimizer='adam',loss='mean_squared_error')\n",
    "model.fit(x_train,y_train,epochs=50)"
   ]
  },
  {
   "cell_type": "code",
   "execution_count": 15,
   "metadata": {},
   "outputs": [
    {
     "name": "stderr",
     "output_type": "stream",
     "text": [
      "/var/folders/hs/56d9rzvx749b_h_539d8s4nh0000gn/T/ipykernel_3469/697644516.py:2: FutureWarning: The frame.append method is deprecated and will be removed from pandas in a future version. Use pandas.concat instead.\n",
      "  final_df=prev100.append(test,ignore_index=True)\n"
     ]
    }
   ],
   "source": [
    "prev100=train\n",
    "final_df=prev100.append(test,ignore_index=True)"
   ]
  },
  {
   "cell_type": "code",
   "execution_count": 16,
   "metadata": {},
   "outputs": [
    {
     "data": {
      "text/plain": [
       "(3446, 1)"
      ]
     },
     "execution_count": 16,
     "metadata": {},
     "output_type": "execute_result"
    }
   ],
   "source": [
    "input_data=scaler.fit_transform(final_df)\n",
    "input_data.shape"
   ]
  },
  {
   "cell_type": "code",
   "execution_count": 17,
   "metadata": {},
   "outputs": [
    {
     "name": "stdout",
     "output_type": "stream",
     "text": [
      "(3346, 100, 1)\n",
      "(3346,)\n",
      "105/105 [==============================] - 6s 52ms/step\n"
     ]
    }
   ],
   "source": [
    "x_test=[]\n",
    "y_test=[]\n",
    "\n",
    "for i in range(100,input_data.shape[0]):\n",
    "    x_test.append(input_data[i-100:i])\n",
    "    y_test.append(input_data[i,0])\n",
    "x_test,y_test=np.array(x_test),np.array(y_test)\n",
    "print(x_test.shape)\n",
    "print(y_test.shape)\n",
    "y_pred=model.predict(x_test)"
   ]
  },
  {
   "cell_type": "code",
   "execution_count": 18,
   "metadata": {},
   "outputs": [
    {
     "data": {
      "text/plain": [
       "(3346, 1)"
      ]
     },
     "execution_count": 18,
     "metadata": {},
     "output_type": "execute_result"
    }
   ],
   "source": [
    "y_pred.shape"
   ]
  },
  {
   "cell_type": "code",
   "execution_count": 19,
   "metadata": {},
   "outputs": [
    {
     "data": {
      "text/plain": [
       "array([0.00244549])"
      ]
     },
     "execution_count": 19,
     "metadata": {},
     "output_type": "execute_result"
    }
   ],
   "source": [
    "scaler.scale_"
   ]
  },
  {
   "cell_type": "code",
   "execution_count": 20,
   "metadata": {},
   "outputs": [],
   "source": [
    "scale_f=1/float(scaler.scale_)\n",
    "y_pred=y_pred*scale_f\n",
    "y_test=y_pred*scale_f"
   ]
  },
  {
   "cell_type": "code",
   "execution_count": 21,
   "metadata": {},
   "outputs": [
    {
     "data": {
      "image/png": "[encoded data removed]",
      "text/plain": [
       "<Figure size 1200x600 with 1 Axes>"
      ]
     },
     "metadata": {},
     "output_type": "display_data"
    }
   ],
   "source": [
    "plt.figure(figsize=(12,6))\n",
    "plt.plot(y_test,'green',label='Original')\n",
    "plt.plot(y_pred,'purple',label='Prediction')\n",
    "plt.xlabel('Time')\n",
    "plt.ylabel('Price')\n",
    "plt.legend()\n",
    "plt.show()"
   ]
  },
  {
   "cell_type": "code",
   "execution_count": 22,
   "metadata": {},
   "outputs": [],
   "source": [
    "model.save('keras_model.h5')"
   ]
  },
  {
   "cell_type": "code",
   "execution_count": null,
   "metadata": {},
   "outputs": [],
   "source": []
  }
 ],
 "metadata": {
  "kernelspec": {
   "display_name": "Python 3.9.0 64-bit",
   "language": "python",
   "name": "python3"
  },
  "language_info": {
   "codemirror_mode": {
    "name": "ipython",
    "version": 3
   },
   "file_extension": ".py",
   "mimetype": "text/x-python",
   "name": "python",
   "nbconvert_exporter": "python",
   "pygments_lexer": "ipython3",
   "version": "3.9.0"
  },
  "orig_nbformat": 4,
  "vscode": {
   "interpreter": {
    "hash": "aee8b7b246df8f9039afb4144a1f6fd8d2ca17a180786b69acc140d282b71a49"
   }
  }
 },
 "nbformat": 4,
 "nbformat_minor": 2
}
